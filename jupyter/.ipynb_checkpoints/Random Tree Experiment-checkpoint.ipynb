{
 "cells": [
  {
   "cell_type": "code",
   "execution_count": null,
   "metadata": {},
   "outputs": [],
   "source": [
    "import pandas as pd\n",
    "import sqlite3\n",
    "import seaborn as sns\n",
    "import matplotlib.pyplot as plt\n",
    "import numpy as np\n",
    "\n",
    "conn = sqlite3.connect(\"../db/baltasar.db\")\n",
    "def sql(query):\n",
    "    #print(query)\n",
    "    return pd.read_sql_query(query, conn)"
   ]
  },
  {
   "cell_type": "code",
   "execution_count": 2,
   "metadata": {},
   "outputs": [],
   "source": [
    "taxonomyDate = int(float(sql('''\n",
    "SELECT timestamp FROM Etransfer\n",
    "WHERE blocknumber=(SELECT max(blocknumber) FROM EntityTaxonomy)\n",
    "LIMIT 1''')['timestamp'][0]) / 86400) * 86400\n",
    "endDate = sql('''SELECT max(date) as d FROM Price''')['d'][0]"
   ]
  },
  {
   "cell_type": "code",
   "execution_count": null,
   "metadata": {},
   "outputs": [],
   "source": [
    "data = sql('''SELECT \n",
    "            CurrentTaxonomyResults.*, sum(percTokens) as percToken, perc as priceChange, success\n",
    "        FROM\n",
    "            CurrentTaxonomyResults\n",
    "            INNER JOIN\n",
    "            (SELECT\n",
    "                endPrice.token, \n",
    "                CASE\n",
    "                    WHEN endPrice.price / prevPrice.price > 1.5 THEN \"GOOD\"\n",
    "                    WHEN endPrice.price / prevPrice.price < 0.67 THEN \"BAD\"\n",
    "                    ELSE \"ORDINARY\"\n",
    "                END as success,\n",
    "                endPrice.price / prevPrice.price as perc\n",
    "            FROM\n",
    "                Price endPrice\n",
    "                INNER JOIN\n",
    "                Price prevPrice\n",
    "                ON endPrice.token = prevPrice.token\n",
    "            WHERE\n",
    "                prevPrice.date='''+str(taxonomyDate)+''' and\n",
    "                endPrice.date=''' + endDate+''') tk\n",
    "            ON tk.token = CurrentTaxonomyResults.token'''\n",
    ")\n",
    "dimensions = ['type', 'operator', 'age', 'activeness', 'yield', 'parents', 'children', 'holdingSize', 'numberOfTokens']\n",
    "\n",
    "# single columns\n",
    "for dimension in dimensions:\n",
    "    grouped = data[['token', dimension,'percToken']].groupby(['token', dimension]).sum().reset_index()\n",
    "    grouped = pd.pivot_table(grouped, values='percToken', index=['token'],\n",
    "                     columns=[dimension], aggfunc=np.sum)\n",
    "    print(grouped)\n",
    "    break;\n",
    "'''\n",
    "for (i in range(len(dimensions)):\n",
    "    for (j in range(len(i,dimensions)):\n",
    "        dimensionA = dimensions[i]\n",
    "        dimensionB = dimensions[j]\n",
    "        if dimensionA == dimensionB:\n",
    "            continue\n",
    "        grouped = data[['token', dimensionA, dimensionB,'percToken']].groupby(['token', dimensionA, dimensionB]).sum().reset_index()\n",
    "\n",
    "'''"
   ]
  },
  {
   "cell_type": "code",
   "execution_count": null,
   "metadata": {},
   "outputs": [],
   "source": []
  }
 ],
 "metadata": {
  "kernelspec": {
   "display_name": "Python 3",
   "language": "python",
   "name": "python3"
  },
  "language_info": {
   "codemirror_mode": {
    "name": "ipython",
    "version": 3
   },
   "file_extension": ".py",
   "mimetype": "text/x-python",
   "name": "python",
   "nbconvert_exporter": "python",
   "pygments_lexer": "ipython3",
   "version": "3.7.4"
  }
 },
 "nbformat": 4,
 "nbformat_minor": 2
}
