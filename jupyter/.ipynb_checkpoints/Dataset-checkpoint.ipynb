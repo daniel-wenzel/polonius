{
 "cells": [
  {
   "cell_type": "code",
   "execution_count": null,
   "metadata": {},
   "outputs": [],
   "source": [
    "import pandas as pd\n",
    "import sqlite3\n",
    "import seaborn as sns\n",
    "import matplotlib.pyplot as plt\n",
    "import numpy as np\n",
    "\n",
    "conn = sqlite3.connect(\"../db/baltasar.db\")\n",
    "def sql(query):\n",
    "    return pd.read_sql_query(query, conn)"
   ]
  },
  {
   "cell_type": "code",
   "execution_count": null,
   "metadata": {},
   "outputs": [],
   "source": [
    "sql('''\n",
    "SELECT MAX(senderM.distinctDegree, receiverM.distinctDegree) as maxDegree, count(*)\n",
    "FROM\n",
    "    Transfer t\n",
    "    INNER JOIN\n",
    "    AddressMetadata senderM\n",
    "    INNER JOIN\n",
    "    AddressMetadata receiverM\n",
    "    ON t.`from` = senderM.address and receiverM.address = t.`to`\n",
    "GROUP BY maxDegree\n",
    "LIMIT 2''')"
   ]
  },
  {
   "cell_type": "code",
   "execution_count": 42,
   "metadata": {},
   "outputs": [],
   "source": [
    "d = sql('''\n",
    "SELECT degree, degree * count(*)/ (SELECT 2.0*count(*) FROM Transfer) as perc FROM AddressMetadata \n",
    "GROUP BY degree\n",
    "ORDER BY degree ASC''')\n",
    "\n",
    "d['cdf'] = d['perc'].cumsum() * 100\n",
    "d[' '] = 'Fraction Of Transfers'"
   ]
  },
  {
   "cell_type": "code",
   "execution_count": 43,
   "metadata": {},
   "outputs": [],
   "source": [
    "cnt = sql('''\n",
    "SELECT degree, count(*)/ (SELECT 1.0*count(*) FROM AddressMetadata) as perc FROM AddressMetadata \n",
    "GROUP BY degree\n",
    "ORDER BY degree ASC''')\n",
    "\n",
    "cnt['cdf'] = cnt['perc'].cumsum() * 100\n",
    "cnt[' '] = 'Fraction of Addresses'"
   ]
  },
  {
   "cell_type": "code",
   "execution_count": 44,
   "metadata": {},
   "outputs": [
    {
     "data": {
      "text/plain": [
       "Text(0.5, 1.0, 'Fraction of Addresses, Transfers per Address Degree')"
      ]
     },
     "execution_count": 44,
     "metadata": {},
     "output_type": "execute_result"
    },
    {
     "data": {
      "image/png": "[encoded data removed]",
      "text/plain": [
       "<Figure size 504x504 with 1 Axes>"
      ]
     },
     "metadata": {
      "needs_background": "light"
     },
     "output_type": "display_data"
    }
   ],
   "source": [
    "a = pd.concat([d, cnt])\n",
    "f, ax = plt.subplots(figsize=(7, 7))\n",
    "ax.set(xscale=\"log\")\n",
    "sns.lineplot(data=a, x='degree', y='cdf', ax=ax, hue=' ')\n",
    "ax.set_ylabel(\"Fraction (in %, cumulative)\")\n",
    "ax.set_xlabel(\"Address Degree\")\n",
    "ax.set_title('Fraction of Addresses, Transfers per Address Degree')\n",
    "#sns.lineplot(data=cnt, x='degree', y='cdf', ax=ax)"
   ]
  },
  {
   "cell_type": "code",
   "execution_count": 45,
   "metadata": {},
   "outputs": [
    {
     "name": "stdout",
     "output_type": "stream",
     "text": [
      "Collecting google-colab\n",
      "\u001b[?25l  Downloading https://files.pythonhosted.org/packages/70/9f/d3ec1275a089ec017f9c91af22ecd1e2fe738254b944e7a1f9528fcfacd0/google-colab-1.0.0.tar.gz (72kB)\n",
      "\u001b[K     |████████████████████████████████| 81kB 3.4MB/s eta 0:00:01\n",
      "\u001b[?25hCollecting google-auth~=1.4.0 (from google-colab)\n",
      "\u001b[?25l  Downloading https://files.pythonhosted.org/packages/56/80/369a47c28ce7d9be6a6973338133d073864d8efbb62747e414c34a3a5f4f/google_auth-1.4.2-py2.py3-none-any.whl (64kB)\n",
      "\u001b[K     |████████████████████████████████| 71kB 7.6MB/s eta 0:00:011\n",
      "\u001b[?25hCollecting ipykernel~=4.6.0 (from google-colab)\n",
      "\u001b[?25l  Downloading https://files.pythonhosted.org/packages/18/c3/76775a650cae2e3d9c033b26153583e61282692d9a3af12a3022d8f0cefa/ipykernel-4.6.1-py3-none-any.whl (104kB)\n",
      "\u001b[K     |████████████████████████████████| 112kB 8.9MB/s eta 0:00:01\n",
      "\u001b[?25hCollecting ipython~=5.5.0 (from google-colab)\n",
      "\u001b[?25l  Downloading https://files.pythonhosted.org/packages/07/63/c987612bcf82c56eaacaf6bf01e31e53a244a0a3a0fb036ec5adc377e0fe/ipython-5.5.0-py3-none-any.whl (758kB)\n",
      "\u001b[K     |████████████████████████████████| 768kB 8.2MB/s eta 0:00:01\n",
      "\u001b[?25hCollecting notebook~=5.2.0 (from google-colab)\n",
      "\u001b[?25l  Downloading https://files.pythonhosted.org/packages/96/a2/d951ebb7855743f989287486ded73cd3f66915c3ecd9c5c5a0c7ca12377a/notebook-5.2.2-py2.py3-none-any.whl (8.0MB)\n",
      "\u001b[K     |████████████████████████████████| 8.0MB 16.1MB/s eta 0:00:01\n",
      "\u001b[?25hRequirement already satisfied: six~=1.12.0 in /root/miniconda3/lib/python3.7/site-packages (from google-colab) (1.12.0)\n",
      "Collecting pandas~=0.24.0 (from google-colab)\n",
      "\u001b[?25l  Downloading https://files.pythonhosted.org/packages/22/e6/2d47835f91eb010036be207581fa113fb4e3822ec1b4bafb0d3d105fede6/pandas-0.24.2-cp37-cp37m-manylinux1_x86_64.whl (10.1MB)\n",
      "\u001b[K     |████████████████████████████████| 10.1MB 95.3MB/s eta 0:00:01\n",
      "\u001b[?25hCollecting portpicker~=1.2.0 (from google-colab)\n",
      "  Downloading https://files.pythonhosted.org/packages/49/2c/a75ef568273036aa61319a554164e6031e31708106ea6ca10e17265e1703/portpicker-1.2.0.tar.gz\n",
      "Collecting requests~=2.21.0 (from google-colab)\n",
      "\u001b[?25l  Downloading https://files.pythonhosted.org/packages/7d/e3/20f3d364d6c8e5d2353c72a67778eb189176f08e873c9900e10c0287b84b/requests-2.21.0-py2.py3-none-any.whl (57kB)\n",
      "\u001b[K     |████████████████████████████████| 61kB 52.1MB/s eta 0:00:01\n",
      "\u001b[?25hCollecting tornado~=4.5.0 (from google-colab)\n",
      "\u001b[?25l  Downloading https://files.pythonhosted.org/packages/e3/7b/e29ab3d51c8df66922fea216e2bddfcb6430fb29620e5165b16a216e0d3c/tornado-4.5.3.tar.gz (484kB)\n",
      "\u001b[K     |████████████████████████████████| 491kB 87.6MB/s eta 0:00:01\n",
      "\u001b[?25hCollecting cachetools>=2.0.0 (from google-auth~=1.4.0->google-colab)\n",
      "  Downloading https://files.pythonhosted.org/packages/2f/a6/30b0a0bef12283e83e58c1d6e7b5aabc7acfc4110df81a4471655d33e704/cachetools-3.1.1-py2.py3-none-any.whl\n",
      "Collecting rsa>=3.1.4 (from google-auth~=1.4.0->google-colab)\n",
      "  Downloading https://files.pythonhosted.org/packages/02/e5/38518af393f7c214357079ce67a317307936896e961e35450b70fad2a9cf/rsa-4.0-py2.py3-none-any.whl\n",
      "Collecting pyasn1-modules>=0.2.1 (from google-auth~=1.4.0->google-colab)\n",
      "\u001b[?25l  Downloading https://files.pythonhosted.org/packages/be/70/e5ea8afd6d08a4b99ebfc77bd1845248d56cfcf43d11f9dc324b9580a35c/pyasn1_modules-0.2.6-py2.py3-none-any.whl (95kB)\n",
      "\u001b[K     |████████████████████████████████| 102kB 66.3MB/s ta 0:00:01\n",
      "\u001b[?25hRequirement already satisfied: traitlets>=4.1.0 in /root/miniconda3/lib/python3.7/site-packages (from ipykernel~=4.6.0->google-colab) (4.3.2)\n",
      "Requirement already satisfied: jupyter-client in /root/miniconda3/lib/python3.7/site-packages (from ipykernel~=4.6.0->google-colab) (5.3.1)\n",
      "Requirement already satisfied: pygments in /root/miniconda3/lib/python3.7/site-packages (from ipython~=5.5.0->google-colab) (2.4.2)\n",
      "Requirement already satisfied: pickleshare in /root/miniconda3/lib/python3.7/site-packages (from ipython~=5.5.0->google-colab) (0.7.5)\n",
      "Collecting simplegeneric>0.8 (from ipython~=5.5.0->google-colab)\n",
      "  Downloading https://files.pythonhosted.org/packages/3d/57/4d9c9e3ae9a255cd4e1106bb57e24056d3d0709fc01b2e3e345898e49d5b/simplegeneric-0.8.1.zip\n",
      "Requirement already satisfied: pexpect; sys_platform != \"win32\" in /root/miniconda3/lib/python3.7/site-packages (from ipython~=5.5.0->google-colab) (4.7.0)\n",
      "Requirement already satisfied: setuptools>=18.5 in /root/miniconda3/lib/python3.7/site-packages (from ipython~=5.5.0->google-colab) (41.0.1)\n",
      "Collecting prompt-toolkit<2.0.0,>=1.0.4 (from ipython~=5.5.0->google-colab)\n",
      "\u001b[?25l  Downloading https://files.pythonhosted.org/packages/57/a8/a151b6c61718eabe6b4672b6aa760b734989316d62ec1ba4996765e602d4/prompt_toolkit-1.0.16-py3-none-any.whl (244kB)\n",
      "\u001b[K     |████████████████████████████████| 245kB 20.8MB/s eta 0:00:01\n",
      "\u001b[?25hRequirement already satisfied: decorator in /root/miniconda3/lib/python3.7/site-packages (from ipython~=5.5.0->google-colab) (4.4.0)\n",
      "Requirement already satisfied: jinja2 in /root/miniconda3/lib/python3.7/site-packages (from notebook~=5.2.0->google-colab) (2.10.1)\n",
      "Requirement already satisfied: nbconvert in /root/miniconda3/lib/python3.7/site-packages (from notebook~=5.2.0->google-colab) (5.5.0)\n",
      "Requirement already satisfied: ipython-genutils in /root/miniconda3/lib/python3.7/site-packages (from notebook~=5.2.0->google-colab) (0.2.0)\n",
      "Requirement already satisfied: terminado>=0.3.3; sys_platform != \"win32\" in /root/miniconda3/lib/python3.7/site-packages (from notebook~=5.2.0->google-colab) (0.8.2)\n",
      "Requirement already satisfied: jupyter-core in /root/miniconda3/lib/python3.7/site-packages (from notebook~=5.2.0->google-colab) (4.4.0)\n",
      "Requirement already satisfied: nbformat in /root/miniconda3/lib/python3.7/site-packages (from notebook~=5.2.0->google-colab) (4.4.0)\n",
      "Requirement already satisfied: pytz>=2011k in /root/miniconda3/lib/python3.7/site-packages (from pandas~=0.24.0->google-colab) (2019.2)\n",
      "Requirement already satisfied: numpy>=1.12.0 in /root/miniconda3/lib/python3.7/site-packages (from pandas~=0.24.0->google-colab) (1.17.0)\n",
      "Requirement already satisfied: python-dateutil>=2.5.0 in /root/miniconda3/lib/python3.7/site-packages (from pandas~=0.24.0->google-colab) (2.8.0)\n",
      "Requirement already satisfied: certifi>=2017.4.17 in /root/miniconda3/lib/python3.7/site-packages (from requests~=2.21.0->google-colab) (2019.6.16)\n",
      "Requirement already satisfied: chardet<3.1.0,>=3.0.2 in /root/miniconda3/lib/python3.7/site-packages (from requests~=2.21.0->google-colab) (3.0.4)\n",
      "Requirement already satisfied: idna<2.9,>=2.5 in /root/miniconda3/lib/python3.7/site-packages (from requests~=2.21.0->google-colab) (2.8)\n",
      "Requirement already satisfied: urllib3<1.25,>=1.21.1 in /root/miniconda3/lib/python3.7/site-packages (from requests~=2.21.0->google-colab) (1.24.2)\n",
      "Collecting pyasn1>=0.1.3 (from rsa>=3.1.4->google-auth~=1.4.0->google-colab)\n",
      "\u001b[?25l  Downloading https://files.pythonhosted.org/packages/6a/6e/209351ec34b7d7807342e2bb6ff8a96eef1fd5dcac13bdbadf065c2bb55c/pyasn1-0.4.6-py2.py3-none-any.whl (75kB)\n",
      "\u001b[K     |████████████████████████████████| 81kB 75.9MB/s  eta 0:00:01\n",
      "\u001b[?25hRequirement already satisfied: pyzmq>=13 in /root/miniconda3/lib/python3.7/site-packages (from jupyter-client->ipykernel~=4.6.0->google-colab) (18.0.2)\n",
      "Requirement already satisfied: ptyprocess>=0.5 in /root/miniconda3/lib/python3.7/site-packages (from pexpect; sys_platform != \"win32\"->ipython~=5.5.0->google-colab) (0.6.0)\n",
      "Requirement already satisfied: wcwidth in /root/miniconda3/lib/python3.7/site-packages (from prompt-toolkit<2.0.0,>=1.0.4->ipython~=5.5.0->google-colab) (0.1.7)\n",
      "Requirement already satisfied: MarkupSafe>=0.23 in /root/miniconda3/lib/python3.7/site-packages (from jinja2->notebook~=5.2.0->google-colab) (1.1.1)\n",
      "Requirement already satisfied: entrypoints>=0.2.2 in /root/miniconda3/lib/python3.7/site-packages (from nbconvert->notebook~=5.2.0->google-colab) (0.3)\n",
      "Requirement already satisfied: pandocfilters>=1.4.1 in /root/miniconda3/lib/python3.7/site-packages (from nbconvert->notebook~=5.2.0->google-colab) (1.4.2)\n",
      "Requirement already satisfied: testpath in /root/miniconda3/lib/python3.7/site-packages (from nbconvert->notebook~=5.2.0->google-colab) (0.4.2)\n",
      "Requirement already satisfied: defusedxml in /root/miniconda3/lib/python3.7/site-packages (from nbconvert->notebook~=5.2.0->google-colab) (0.5.0)\n",
      "Requirement already satisfied: mistune>=0.8.1 in /root/miniconda3/lib/python3.7/site-packages (from nbconvert->notebook~=5.2.0->google-colab) (0.8.4)\n",
      "Requirement already satisfied: bleach in /root/miniconda3/lib/python3.7/site-packages (from nbconvert->notebook~=5.2.0->google-colab) (3.1.0)\n",
      "Requirement already satisfied: jsonschema!=2.5.0,>=2.4 in /root/miniconda3/lib/python3.7/site-packages (from nbformat->notebook~=5.2.0->google-colab) (3.0.2)\n",
      "Requirement already satisfied: webencodings in /root/miniconda3/lib/python3.7/site-packages (from bleach->nbconvert->notebook~=5.2.0->google-colab) (0.5.1)\n",
      "Requirement already satisfied: pyrsistent>=0.14.0 in /root/miniconda3/lib/python3.7/site-packages (from jsonschema!=2.5.0,>=2.4->nbformat->notebook~=5.2.0->google-colab) (0.15.4)\n",
      "Requirement already satisfied: attrs>=17.4.0 in /root/miniconda3/lib/python3.7/site-packages (from jsonschema!=2.5.0,>=2.4->nbformat->notebook~=5.2.0->google-colab) (19.1.0)\n",
      "Building wheels for collected packages: google-colab, portpicker, tornado, simplegeneric\n"
     ]
    },
    {
     "name": "stdout",
     "output_type": "stream",
     "text": [
      "  Building wheel for google-colab (setup.py) ... \u001b[?25ldone\n",
      "\u001b[?25h  Created wheel for google-colab: filename=google_colab-1.0.0-py2.py3-none-any.whl size=102291 sha256=593431011db6ee2cf03fe12c4afbf6e69982430d79c65ca88386abd2a936a46e\n",
      "  Stored in directory: /root/.cache/pip/wheels/38/0d/59/701e300a337b2a2e07b27fe74dbfff0bc56ac58f711566ee67\n",
      "  Building wheel for portpicker (setup.py) ... \u001b[?25ldone\n",
      "\u001b[?25h  Created wheel for portpicker: filename=portpicker-1.2.0-cp37-none-any.whl size=13368 sha256=da9ad2cc00d488ac8d6d806e23976025dd9eb8fc5976382534608482baa4af18\n",
      "  Stored in directory: /root/.cache/pip/wheels/4a/45/47/1e126be9d4605e71f00d6e6fb151611f2f4cb9770b050c7d2d\n",
      "  Building wheel for tornado (setup.py) ... \u001b[?25ldone\n",
      "\u001b[?25h  Created wheel for tornado: filename=tornado-4.5.3-cp37-cp37m-linux_x86_64.whl size=434100 sha256=c1fdba64b9230fa5c1555adc4c4d434def86d4a0d175a2aef5c50af5c5ca8e33\n",
      "  Stored in directory: /root/.cache/pip/wheels/72/bf/f4/b68fa69596986881b397b18ff2b9af5f8181233aadcc9f76fd\n",
      "  Building wheel for simplegeneric (setup.py) ... \u001b[?25ldone\n",
      "\u001b[?25h  Created wheel for simplegeneric: filename=simplegeneric-0.8.1-cp37-none-any.whl size=5075 sha256=eb45222521168d563b31dc875e0809879c7b8c2488839d8d5de9e11f4b3adfd3\n",
      "  Stored in directory: /root/.cache/pip/wheels/a9/28/53/f24776b4c5bcbe91aaf1f1e247bd6fadd17191aa12fac63902\n",
      "Successfully built google-colab portpicker tornado simplegeneric\n",
      "\u001b[31mERROR: jupyter-console 6.0.0 has requirement prompt-toolkit<2.1.0,>=2.0.0, but you'll have prompt-toolkit 1.0.16 which is incompatible.\u001b[0m\n",
      "Installing collected packages: cachetools, pyasn1, rsa, pyasn1-modules, google-auth, simplegeneric, prompt-toolkit, ipython, tornado, ipykernel, notebook, pandas, portpicker, requests, google-colab\n",
      "  Found existing installation: prompt-toolkit 2.0.9\n",
      "    Uninstalling prompt-toolkit-2.0.9:\n",
      "      Successfully uninstalled prompt-toolkit-2.0.9\n",
      "  Found existing installation: ipython 7.7.0\n",
      "    Uninstalling ipython-7.7.0:\n",
      "      Successfully uninstalled ipython-7.7.0\n",
      "  Found existing installation: tornado 6.0.3\n",
      "    Uninstalling tornado-6.0.3:\n",
      "      Successfully uninstalled tornado-6.0.3\n",
      "  Found existing installation: ipykernel 5.1.1\n",
      "    Uninstalling ipykernel-5.1.1:\n",
      "      Successfully uninstalled ipykernel-5.1.1\n",
      "  Found existing installation: notebook 6.0.0\n",
      "    Uninstalling notebook-6.0.0:\n",
      "      Successfully uninstalled notebook-6.0.0\n",
      "  Found existing installation: pandas 0.25.0\n",
      "    Uninstalling pandas-0.25.0:\n",
      "      Successfully uninstalled pandas-0.25.0\n",
      "  Found existing installation: requests 2.22.0\n",
      "    Uninstalling requests-2.22.0:\n",
      "      Successfully uninstalled requests-2.22.0\n",
      "Successfully installed cachetools-3.1.1 google-auth-1.4.2 google-colab-1.0.0 ipykernel-4.6.1 ipython-5.5.0 notebook-5.2.2 pandas-0.24.2 portpicker-1.2.0 prompt-toolkit-1.0.16 pyasn1-0.4.6 pyasn1-modules-0.2.6 requests-2.21.0 rsa-4.0 simplegeneric-0.8.1 tornado-4.5.3\n",
      "Note: you may need to restart the kernel to use updated packages.\n"
     ]
    }
   ],
   "source": [
    "from google.colab import files\n",
    "plt.savefig(\"fig.pdf\")\n",
    "files.download(\"fig.pdf\") "
   ]
  }
 ],
 "metadata": {
  "kernelspec": {
   "display_name": "Python 3",
   "language": "python",
   "name": "python3"
  },
  "language_info": {
   "codemirror_mode": {
    "name": "ipython",
    "version": 3
   },
   "file_extension": ".py",
   "mimetype": "text/x-python",
   "name": "python",
   "nbconvert_exporter": "python",
   "pygments_lexer": "ipython3",
   "version": "3.7.3"
  }
 },
 "nbformat": 4,
 "nbformat_minor": 2
}
