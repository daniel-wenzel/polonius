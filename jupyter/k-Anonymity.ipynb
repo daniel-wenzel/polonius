{
 "cells": [
  {
   "cell_type": "code",
   "execution_count": 1,
   "metadata": {},
   "outputs": [],
   "source": [
    "import pandas as pd\n",
    "import sqlite3\n",
    "import seaborn as sns\n",
    "import matplotlib.pyplot as plt\n",
    "import numpy as np\n",
    "\n",
    "conn = sqlite3.connect(\"../db/baltasar.db\")\n",
    "def sql(query):\n",
    "    #print(query)\n",
    "    return pd.read_sql_query(query, conn)"
   ]
  },
  {
   "cell_type": "code",
   "execution_count": 25,
   "metadata": {},
   "outputs": [
    {
     "data": {
      "text/html": [
       "<div>\n",
       "<style scoped>\n",
       "    .dataframe tbody tr th:only-of-type {\n",
       "        vertical-align: middle;\n",
       "    }\n",
       "\n",
       "    .dataframe tbody tr th {\n",
       "        vertical-align: top;\n",
       "    }\n",
       "\n",
       "    .dataframe thead th {\n",
       "        text-align: right;\n",
       "    }\n",
       "</style>\n",
       "<table border=\"1\" class=\"dataframe\">\n",
       "  <thead>\n",
       "    <tr style=\"text-align: right;\">\n",
       "      <th></th>\n",
       "      <th>exchangeUnique</th>\n",
       "      <th>taxonomyUnique</th>\n",
       "      <th>tokenUnique</th>\n",
       "      <th>tokenAndExchange</th>\n",
       "      <th>tokenAndTaxonomy</th>\n",
       "      <th>taxonomyAndExchange</th>\n",
       "      <th>allKnowledge</th>\n",
       "    </tr>\n",
       "  </thead>\n",
       "  <tbody>\n",
       "    <tr>\n",
       "      <th>0</th>\n",
       "      <td>36876</td>\n",
       "      <td>42650</td>\n",
       "      <td>533877</td>\n",
       "      <td>646864</td>\n",
       "      <td>1146069</td>\n",
       "      <td>404056</td>\n",
       "      <td>1260420</td>\n",
       "    </tr>\n",
       "  </tbody>\n",
       "</table>\n",
       "</div>"
      ],
      "text/plain": [
       "   exchangeUnique  taxonomyUnique  tokenUnique  tokenAndExchange  \\\n",
       "0           36876           42650       533877            646864   \n",
       "\n",
       "   tokenAndTaxonomy  taxonomyAndExchange  allKnowledge  \n",
       "0           1146069               404056       1260420  "
      ]
     },
     "execution_count": 25,
     "metadata": {},
     "output_type": "execute_result"
    }
   ],
   "source": [
    "results = sql('''\n",
    "SELECT\n",
    "    (SELECT count(*) as numUnique\n",
    "    FROM\n",
    "        (SELECT \n",
    "            name\n",
    "        FROM\n",
    "            QuasiIdentifiers\n",
    "        GROUP BY exchange\n",
    "        HAVING count(*) = 1)) as exchangeUnique,\n",
    "    (SELECT count(*) as numUnique\n",
    "    FROM\n",
    "        (SELECT \n",
    "            name\n",
    "        FROM\n",
    "            QuasiIdentifiers\n",
    "        GROUP BY taxonomy\n",
    "        HAVING count(*) = 1)) as taxonomyUnique,\n",
    "    (SELECT count(*) as numUnique\n",
    "    FROM\n",
    "        (SELECT \n",
    "            name\n",
    "        FROM\n",
    "            QuasiIdentifiers\n",
    "        GROUP BY token\n",
    "        HAVING count(*) = 1)) as tokenUnique,\n",
    "    (SELECT count(*) as numUnique\n",
    "    FROM\n",
    "        (SELECT \n",
    "            name\n",
    "        FROM\n",
    "            QuasiIdentifiers\n",
    "        GROUP BY token, exchange\n",
    "        HAVING count(*) = 1)) as tokenAndExchange,\n",
    "    (SELECT count(*) as numUnique\n",
    "    FROM\n",
    "        (SELECT \n",
    "            name\n",
    "        FROM\n",
    "            QuasiIdentifiers\n",
    "        GROUP BY token, taxonomy\n",
    "        HAVING count(*) = 1)) as tokenAndTaxonomy,\n",
    "    (SELECT count(*) as numUnique\n",
    "    FROM\n",
    "        (SELECT \n",
    "            name\n",
    "        FROM\n",
    "            QuasiIdentifiers\n",
    "        GROUP BY taxonomy, exchange\n",
    "        HAVING count(*) = 1)) as taxonomyAndExchange,\n",
    "    (SELECT count(*) as numUnique\n",
    "    FROM\n",
    "        (SELECT \n",
    "            name\n",
    "        FROM\n",
    "            QuasiIdentifiers\n",
    "        GROUP BY taxonomy, exchange,token\n",
    "        HAVING count(*) = 1)) as allKnowledge\n",
    "''')\n",
    "results"
   ]
  },
  {
   "cell_type": "code",
   "execution_count": 26,
   "metadata": {
    "collapsed": true
   },
   "outputs": [
    {
     "data": {
      "text/html": [
       "<div>\n",
       "<style scoped>\n",
       "    .dataframe tbody tr th:only-of-type {\n",
       "        vertical-align: middle;\n",
       "    }\n",
       "\n",
       "    .dataframe tbody tr th {\n",
       "        vertical-align: top;\n",
       "    }\n",
       "\n",
       "    .dataframe thead th {\n",
       "        text-align: right;\n",
       "    }\n",
       "</style>\n",
       "<table border=\"1\" class=\"dataframe\">\n",
       "  <thead>\n",
       "    <tr style=\"text-align: right;\">\n",
       "      <th></th>\n",
       "      <th>exchangeUnique</th>\n",
       "      <th>taxonomyUnique</th>\n",
       "      <th>tokenUnique</th>\n",
       "      <th>tokenAndExchange</th>\n",
       "      <th>tokenAndTaxonomy</th>\n",
       "      <th>taxonomyAndExchange</th>\n",
       "      <th>allKnowledge</th>\n",
       "    </tr>\n",
       "  </thead>\n",
       "  <tbody>\n",
       "    <tr>\n",
       "      <th>0</th>\n",
       "      <td>73627</td>\n",
       "      <td>229671</td>\n",
       "      <td>732014</td>\n",
       "      <td>868571</td>\n",
       "      <td>1725442</td>\n",
       "      <td>868210</td>\n",
       "      <td>1844796</td>\n",
       "    </tr>\n",
       "  </tbody>\n",
       "</table>\n",
       "</div>"
      ],
      "text/plain": [
       "   exchangeUnique  taxonomyUnique  tokenUnique  tokenAndExchange  \\\n",
       "0           73627          229671       732014            868571   \n",
       "\n",
       "   tokenAndTaxonomy  taxonomyAndExchange  allKnowledge  \n",
       "0           1725442               868210       1844796  "
      ]
     },
     "execution_count": 26,
     "metadata": {},
     "output_type": "execute_result"
    }
   ],
   "source": [
    "results10 = sql('''\n",
    "SELECT\n",
    "    (SELECT sum(numAddresses) as numUnique\n",
    "    FROM\n",
    "        (SELECT \n",
    "            name, count(*) as numAddresses\n",
    "        FROM\n",
    "            QuasiIdentifiers\n",
    "        GROUP BY exchange\n",
    "        HAVING count(*) <= 10)) as exchangeUnique,\n",
    "    (SELECT sum(numAddresses) as numUnique\n",
    "    FROM\n",
    "        (SELECT \n",
    "            name, count(*) as numAddresses\n",
    "        FROM\n",
    "            QuasiIdentifiers\n",
    "        GROUP BY taxonomy\n",
    "        HAVING count(*) <= 10)) as taxonomyUnique,\n",
    "    (SELECT sum(numAddresses) as numUnique\n",
    "    FROM\n",
    "        (SELECT \n",
    "            name, count(*) as numAddresses\n",
    "        FROM\n",
    "            QuasiIdentifiers\n",
    "        GROUP BY token\n",
    "        HAVING count(*) <= 10)) as tokenUnique,\n",
    "    (SELECT sum(numAddresses) as numUnique\n",
    "    FROM\n",
    "        (SELECT \n",
    "            name, count(*) as numAddresses\n",
    "        FROM\n",
    "            QuasiIdentifiers\n",
    "        GROUP BY token, exchange\n",
    "        HAVING count(*) <= 10)) as tokenAndExchange,\n",
    "    (SELECT sum(numAddresses) as numUnique\n",
    "    FROM\n",
    "        (SELECT \n",
    "            name, count(*) as numAddresses\n",
    "        FROM\n",
    "            QuasiIdentifiers\n",
    "        GROUP BY token, taxonomy\n",
    "        HAVING count(*) <= 10)) as tokenAndTaxonomy,\n",
    "    (SELECT sum(numAddresses) as numUnique\n",
    "    FROM\n",
    "        (SELECT \n",
    "            name, count(*) as numAddresses\n",
    "        FROM\n",
    "            QuasiIdentifiers\n",
    "        GROUP BY taxonomy, exchange\n",
    "        HAVING count(*) <= 10)) as taxonomyAndExchange,\n",
    "    (SELECT sum(numAddresses) as numUnique\n",
    "    FROM\n",
    "        (SELECT \n",
    "            name, count(*) as numAddresses\n",
    "        FROM\n",
    "            QuasiIdentifiers\n",
    "        GROUP BY taxonomy, exchange,token\n",
    "        HAVING count(*) <= 10)) as allKnowledge\n",
    "''')\n",
    "results10"
   ]
  },
  {
   "cell_type": "markdown",
   "metadata": {},
   "source": [
    "# Other Quasi-Identifiers"
   ]
  },
  {
   "cell_type": "code",
   "execution_count": 50,
   "metadata": {},
   "outputs": [
    {
     "data": {
      "image/png": "[encoded data removed]",
      "text/plain": [
       "<Figure size 432x288 with 1 Axes>"
      ]
     },
     "metadata": {
      "needs_background": "light"
     },
     "output_type": "display_data"
    }
   ],
   "source": [
    "allAddresses = sql('''SELECT count(*) as c FROM QuasiIdentifiers''').c[0]\n",
    "\n",
    "def makeLinePlot(groupByStatement, label):\n",
    "    data = sql('''\n",
    "    SELECT\n",
    "        k, sum(k) as numMatches\n",
    "    FROM\n",
    "        (SELECT \n",
    "            count(*) as k\n",
    "        FROM\n",
    "            QuasiIdentifiers\n",
    "        GROUP BY '''+groupByStatement+''') as exchangeUnique\n",
    "    WHERE k <= 20\n",
    "    GROUP BY k\n",
    "    ORDER BY k\n",
    "    ''')\n",
    "\n",
    "    data['matchedPerc'] = 100 * data['numMatches'] / allAddresses\n",
    "    data['matchedCum'] = data['matchedPerc'].cumsum()\n",
    "    sns.lineplot(data=data, x=\"k\", y='matchedCum', label=label, drawstyle='steps-post')\n",
    "    \n",
    "groupByStatements = [\"exchange\", \"token\", \"taxonomy\", \"exchange, taxonomy\", \"exchange, token\", \"token, taxonomy\", \"exchange, token, taxonomy\"]\n",
    "for statement in groupByStatements:\n",
    "    makeLinePlot(statement,statement)\n",
    "plt.ylabel('% of Entities')\n",
    "lgd = plt.gca().legend(loc='upper center', bbox_to_anchor=(0.5, -0.15),\n",
    "          ncol=3, fancybox=False, shadow=False)\n",
    "plt.xticks(np.arange(1, 21, step=1))\n",
    "plt.savefig('graphs/eva_kanon.pdf', bbox_extra_artists=(lgd,), bbox_inches='tight')"
   ]
  },
  {
   "cell_type": "markdown",
   "metadata": {},
   "source": [
    "# Dimensions"
   ]
  },
  {
   "cell_type": "code",
   "execution_count": 3,
   "metadata": {},
   "outputs": [
    {
     "ename": "NameError",
     "evalue": "name 'lgd' is not defined",
     "output_type": "error",
     "traceback": [
      "\u001b[0;31m---------------------------------------------------------------------------\u001b[0m",
      "\u001b[0;31mNameError\u001b[0m                                 Traceback (most recent call last)",
      "\u001b[0;32m<ipython-input-3-e2f6000dd7a6>\u001b[0m in \u001b[0;36m<module>\u001b[0;34m\u001b[0m\n\u001b[1;32m     39\u001b[0m \u001b[0maxes\u001b[0m\u001b[0;34m.\u001b[0m\u001b[0mset_ylim\u001b[0m\u001b[0;34m(\u001b[0m\u001b[0;34m[\u001b[0m\u001b[0;36m10\u001b[0m\u001b[0;34m,\u001b[0m\u001b[0;36m20\u001b[0m\u001b[0;34m]\u001b[0m\u001b[0;34m)\u001b[0m\u001b[0;34m\u001b[0m\u001b[0;34m\u001b[0m\u001b[0m\n\u001b[1;32m     40\u001b[0m \u001b[0mplt\u001b[0m\u001b[0;34m.\u001b[0m\u001b[0mxticks\u001b[0m\u001b[0;34m(\u001b[0m\u001b[0mnp\u001b[0m\u001b[0;34m.\u001b[0m\u001b[0marange\u001b[0m\u001b[0;34m(\u001b[0m\u001b[0;36m1\u001b[0m\u001b[0;34m,\u001b[0m \u001b[0;36m21\u001b[0m\u001b[0;34m,\u001b[0m \u001b[0mstep\u001b[0m\u001b[0;34m=\u001b[0m\u001b[0;36m1\u001b[0m\u001b[0;34m)\u001b[0m\u001b[0;34m)\u001b[0m\u001b[0;34m\u001b[0m\u001b[0;34m\u001b[0m\u001b[0m\n\u001b[0;32m---> 41\u001b[0;31m \u001b[0mplt\u001b[0m\u001b[0;34m.\u001b[0m\u001b[0msavefig\u001b[0m\u001b[0;34m(\u001b[0m\u001b[0;34m'graphs/eva_kanon_dimensions.pdf'\u001b[0m\u001b[0;34m,\u001b[0m \u001b[0mbbox_extra_artists\u001b[0m\u001b[0;34m=\u001b[0m\u001b[0;34m(\u001b[0m\u001b[0mlgd\u001b[0m\u001b[0;34m,\u001b[0m\u001b[0;34m)\u001b[0m\u001b[0;34m,\u001b[0m \u001b[0mbbox_inches\u001b[0m\u001b[0;34m=\u001b[0m\u001b[0;34m'tight'\u001b[0m\u001b[0;34m)\u001b[0m\u001b[0;34m\u001b[0m\u001b[0;34m\u001b[0m\u001b[0m\n\u001b[0m",
      "\u001b[0;31mNameError\u001b[0m: name 'lgd' is not defined"
     ]
    },
    {
     "data": {
      "image/png": "[encoded data removed]",
      "text/plain": [
       "<Figure size 432x288 with 1 Axes>"
      ]
     },
     "metadata": {
      "needs_background": "light"
     },
     "output_type": "display_data"
    }
   ],
   "source": [
    "allAddresses = sql('''SELECT count(*) as c FROM QuasiIdentifiers''').c[0]\n",
    "def makeLinePlot(groupByStatement, label):\n",
    "    data = sql('''\n",
    "    SELECT\n",
    "        k, sum(k) as numMatches\n",
    "    FROM\n",
    "        (SELECT \n",
    "            count(*) as k\n",
    "        FROM\n",
    "            QuasiIdentifiers\n",
    "            NATURAL JOIN\n",
    "            EntityTaxonomy\n",
    "        WHERE blocknumber = (SELECT max(blocknumber) FROM EntityTaxonomy)\n",
    "        GROUP BY '''+groupByStatement+''') as exchangeUnique\n",
    "    WHERE k <= 20\n",
    "    GROUP BY k\n",
    "    ORDER BY k\n",
    "    ''')\n",
    "\n",
    "    data['matchedPerc'] = 100 * data['numMatches'] / allAddresses\n",
    "    data['matchedCum'] = data['matchedPerc'].cumsum()\n",
    "    sns.lineplot(data=data, x=\"k\", y='matchedCum', label=label, drawstyle='steps-post')\n",
    "    \n",
    "groupByStatements = [\"token\", \n",
    "                     \"token, type\", \n",
    "                      \"token, activeness\", \n",
    "                      \"token, age\", \n",
    "                      \"token, yield\", \n",
    "                      \"token, children\", \n",
    "                      \"token, parents\", \n",
    "                      \"token, holdingSize\", \n",
    "                      \"token, numberOfTokens\", \n",
    "                      \"token, operator\", \n",
    "                    ]\n",
    "for statement in groupByStatements:\n",
    "    makeLinePlot(statement,statement)\n",
    "plt.ylabel('% of Entities')\n",
    "axes = plt.gca()\n",
    "axes.set_ylim([10,20])\n",
    "plt.xticks(np.arange(1, 21, step=1))\n",
    "plt.savefig('graphs/eva_kanon_dimensions.pdf', bbox_extra_artists=(lgd,), bbox_inches='tight')"
   ]
  },
  {
   "cell_type": "code",
   "execution_count": 9,
   "metadata": {},
   "outputs": [],
   "source": [
    "d = sql('''\n",
    "SELECT\n",
    "        k, sum(k) as numMatches\n",
    "    FROM\n",
    "        (SELECT \n",
    "            count(*) as k\n",
    "        FROM\n",
    "            QuasiIdentifiers\n",
    "            NATURAL JOIN\n",
    "            EntityTaxonomy\n",
    "        WHERE blocknumber = 7680001 and name LIKE \"0x0%\"\n",
    "        GROUP BY token) as exchangeUnique\n",
    "    WHERE k <= 20\n",
    "    GROUP BY k\n",
    "    ORDER BY k\n",
    "''')"
   ]
  },
  {
   "cell_type": "code",
   "execution_count": 5,
   "metadata": {},
   "outputs": [
    {
     "data": {
      "text/html": [
       "<div>\n",
       "<style scoped>\n",
       "    .dataframe tbody tr th:only-of-type {\n",
       "        vertical-align: middle;\n",
       "    }\n",
       "\n",
       "    .dataframe tbody tr th {\n",
       "        vertical-align: top;\n",
       "    }\n",
       "\n",
       "    .dataframe thead th {\n",
       "        text-align: right;\n",
       "    }\n",
       "</style>\n",
       "<table border=\"1\" class=\"dataframe\">\n",
       "  <thead>\n",
       "    <tr style=\"text-align: right;\">\n",
       "      <th></th>\n",
       "      <th>max(blocknumber)</th>\n",
       "    </tr>\n",
       "  </thead>\n",
       "  <tbody>\n",
       "    <tr>\n",
       "      <th>0</th>\n",
       "      <td>7680001</td>\n",
       "    </tr>\n",
       "  </tbody>\n",
       "</table>\n",
       "</div>"
      ],
      "text/plain": [
       "   max(blocknumber)\n",
       "0           7680001"
      ]
     },
     "execution_count": 5,
     "metadata": {},
     "output_type": "execute_result"
    }
   ],
   "source": [
    "sql('''SELECT max(blocknumber) FROM EntityTaxonomy''')"
   ]
  }
 ],
 "metadata": {
  "kernelspec": {
   "display_name": "Python 3",
   "language": "python",
   "name": "python3"
  },
  "language_info": {
   "codemirror_mode": {
    "name": "ipython",
    "version": 3
   },
   "file_extension": ".py",
   "mimetype": "text/x-python",
   "name": "python",
   "nbconvert_exporter": "python",
   "pygments_lexer": "ipython3",
   "version": "3.7.4"
  }
 },
 "nbformat": 4,
 "nbformat_minor": 2
}
